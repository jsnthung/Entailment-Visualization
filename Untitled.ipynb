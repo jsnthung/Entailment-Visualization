{
 "cells": [
  {
   "cell_type": "code",
   "execution_count": null,
   "id": "21032d84-123a-4576-a197-8b5abd3c4cd2",
   "metadata": {},
   "outputs": [],
   "source": [
    "from rdflib import Graph, Namespace, URIRef, Literal\n",
    "from rdflib.namespace import DC, RDF, FOAF, RDFS, XSD"
   ]
  },
  {
   "cell_type": "markdown",
   "id": "bd1bc542-cccf-43f7-8d23-eadadee219c7",
   "metadata": {},
   "source": [
    "Example of a turtle data in String"
   ]
  },
  {
   "cell_type": "code",
   "execution_count": null,
   "id": "66f369ad-4213-454a-b441-4c19d5574bf5",
   "metadata": {},
   "outputs": [],
   "source": [
    "turtledata = \"\"\"\\\n",
    "PREFIX dbr: <http://dbpedia.org/resource/> \n",
    "PREFIX dbo: <http://dbpedia.org/ontology/> \n",
    "PREFIX rdf: <http://www.w3.org/1999/02/22-rdf-syntax-ns#> \n",
    "PREFIX rdfs: <http://www.w3.org/2000/01/rdf-schema#> \n",
    "PREFIX ex: <http://example.org/> \n",
    "PREFIX xsd: <http://www.w3.org/2001/XMLSchema#> \n",
    "\n",
    "dbr:John_Travolta \t\trdf:type   \t\t\t\tdbo:Actor ;\n",
    "      \t\t\t  \t\t\t\tdbo:awards \t\t\t\tdbr:67th_Academy_Awards ;\n",
    "      \t\t\t  \t\t\t\tex:portrays\t\t\t\tdbr:Vincent_Vega .\n",
    "dbr:Pulp_Fiction  \t\trdf:type  \t\t\t\tdbo:Film ;\n",
    "\t\t\t\t\t\t\t\t\t\t\trdfs:label\t\t\t\t\"Pulp_Fiction\"@en ,\n",
    "\t\t\t\t\t\t\t\t\t\t\t\"Криминальное чтиво\"@ru ;\n",
    "      \t\t\t  \t\t\t\tdbo:genre     \t\t\tdbr:Neo_noir ;\n",
    "      \t\t\t  \t\t\t\tex:playsIn \t\t\t\tdbr:Los_Angeles ;\n",
    "      \t\t\t  \t\t\t\tex:fictionalCharacter \tdbr:Vincent_Vega ;\n",
    "      \t\t\t  \t\t\t\tdbo:starring  \t\t\tdbr:John_Travolta ,\n",
    "      \t\t\t  \t\t\t\tdbr:Uma_Thurman ,\n",
    "      \t\t\t  \t\t\t\tdbr:Bruce_Willis .\n",
    "dbr:Vincent_Vega \t  \trdf:type \t\t\t\tdbo:Fictional_character .\n",
    "dbr:Quentin_Tarantino rdf:type \t\t\t\tdbo:Director .\n",
    "dbr:Uma_Thurman\t\t\t\trdf:type \t\t\t\tdbo:Actor ;\n",
    "\t\t\t\t\t\t\t\t\t\t\tex:portrays\t\t\t\tdbr:Mia_Wallace ;\n",
    "\t\t\t\t\t\t\t\t\t\t\tdbo:awards  \t\t\tdbr:67th_Academy_Awards .\n",
    "dbr:Bruce_Willis\t\t\trdf:type   \t\t\t\tdbo:Actor .\n",
    "dbr:The_Green_Mile\t\trdf:type  \t\t\t\tdbo:Film ;\n",
    "\t\t\t\t\t\t\t\t\t\t\trdfs:label\t\t\t\t\"The Green Mile\"@en ,\n",
    "\t\t\t\t\t\t\t\t\t\t\t\"Зелёная ми́ля\"@ru ;\n",
    "\t\t\t\t\t\t\t\t\t\t\tdbo:starring\t\t\tdbr:Tom_Hanks,\n",
    "\t\t\t\t\t\t\t\t\t\t\tdbr:David_Morse .\n",
    "dbr:Tom_Hanks\t\t\t\t\trdf:type \t\t\t\tdbo:Actor .\n",
    "dbr:David_Morse\t\t\t\trdf:type \t\t\t\tdbo:Actor .\n",
    "dbr:Tenet\t\t\t\t\t\t\trdf:type  \t\t\t\tdbo:Film ;\n",
    "\t\t\t\t\t\t\t\t\t\t\trdfs:label\t\t\t\t\"Tenet\"@en ;\n",
    "\t\t\t\t\t\t\t\t\t\t\tdbo:starring \t\t\tdbr:Robert_Pattinson ,\n",
    "\t\t\t\t\t\t\t\t\t\t\tdbr:Elizabeth_Debicki ,\n",
    "\t\t\t\t\t\t\t\t\t\t\tdbr:John_David_Washington .\n",
    "dbr:Robert_Pattinson \trdf:type \t\t\t\tdbo:Actor .\n",
    "dbr:Elizabeth_Debicki rdf:type \t\t\t\tdbo:Actor .\n",
    "dbr:John_David_Washington rdf:type \t\t\t\tdbo:Actor .\"\"\""
   ]
  },
  {
   "cell_type": "code",
   "execution_count": null,
   "id": "ed5c3a15-9ffe-4cd8-8271-51b4b5fba65d",
   "metadata": {},
   "outputs": [],
   "source": []
  },
  {
   "cell_type": "markdown",
   "id": "fb1de9ec-b1ec-4127-81f1-d27818880d57",
   "metadata": {},
   "source": [
    "This is an example of visualizing a graph\n",
    "From Directed Graph using networkx to a pyvis notebook"
   ]
  },
  {
   "cell_type": "code",
   "execution_count": 5,
   "id": "016a3a18-af86-49de-a6e2-1899458a31b6",
   "metadata": {},
   "outputs": [
    {
     "name": "stdout",
     "output_type": "stream",
     "text": [
      "Warning: When  cdn_resources is 'local' jupyter notebook has issues displaying graphics on chrome/safari. Use cdn_resources='in_line' or cdn_resources='remote' if you have issues viewing graphics in a notebook.\n",
      "interactive_graph.html\n"
     ]
    },
    {
     "data": {
      "text/html": [
       "\n",
       "        <iframe\n",
       "            width=\"100%\"\n",
       "            height=\"600px\"\n",
       "            src=\"interactive_graph.html\"\n",
       "            frameborder=\"0\"\n",
       "            allowfullscreen\n",
       "            \n",
       "        ></iframe>\n",
       "        "
      ],
      "text/plain": [
       "<IPython.lib.display.IFrame at 0x107947820>"
      ]
     },
     "execution_count": 5,
     "metadata": {},
     "output_type": "execute_result"
    }
   ],
   "source": [
    "from pyvis.network import Network\n",
    "import networkx as nx\n",
    "\n",
    "# Create a directed graph using networkx\n",
    "G = nx.DiGraph()\n",
    "\n",
    "# Add nodes\n",
    "nodes = ['John', 'Father', 'Parent', 'Human']\n",
    "G.add_nodes_from(nodes)\n",
    "\n",
    "# Add edges\n",
    "G.add_edge('Father', 'Human', label=\"SubClass_Of\")\n",
    "G.add_edge('Father', 'Parent', label=\"SubClass_Of\")\n",
    "G.add_edge('John', 'Father', label=\"is_a\")\n",
    "\n",
    "# Create a Pyvis Network\n",
    "net = Network(notebook=True, directed=True)\n",
    "\n",
    "# Convert the NetworkX graph to a Pyvis graph\n",
    "net.from_nx(G)\n",
    "\n",
    "# Add labels to the nodes\n",
    "for node in net.nodes:\n",
    "    net.get_node(node['id'])['label'] = node['id']\n",
    "\n",
    "# Add a double-headed edge manually between A and B\n",
    "# net.add_edge('C', 'D', arrows='to;from')\n",
    "# net.add_edge('A', 'B', arrows='to')\n",
    "# net.add_edge('B', 'A', arrows='to')\n",
    "\n",
    "# Set the physics layout for better interaction\n",
    "net.force_atlas_2based()\n",
    "\n",
    "# Save and display the graph\n",
    "net.show(\"interactive_graph.html\")"
   ]
  },
  {
   "cell_type": "code",
   "execution_count": null,
   "id": "19b05644-f48f-41bf-804b-62b28b497a85",
   "metadata": {},
   "outputs": [],
   "source": []
  }
 ],
 "metadata": {
  "kernelspec": {
   "display_name": "Python 3 (ipykernel)",
   "language": "python",
   "name": "python3"
  },
  "language_info": {
   "codemirror_mode": {
    "name": "ipython",
    "version": 3
   },
   "file_extension": ".py",
   "mimetype": "text/x-python",
   "name": "python",
   "nbconvert_exporter": "python",
   "pygments_lexer": "ipython3",
   "version": "3.10.12"
  }
 },
 "nbformat": 4,
 "nbformat_minor": 5
}

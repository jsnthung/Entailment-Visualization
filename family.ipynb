{
 "cells": [
  {
   "metadata": {},
   "cell_type": "markdown",
   "source": "Visualize the initial graph",
   "id": "aa858eb947c0c6e1"
  },
  {
   "metadata": {},
   "cell_type": "markdown",
   "source": "Load the RDF data from the ttl file and define namespaces.",
   "id": "a366f56c132741e6"
  },
  {
   "metadata": {
    "ExecuteTime": {
     "end_time": "2024-11-08T15:48:17.015219Z",
     "start_time": "2024-11-08T15:48:17.010887Z"
    }
   },
   "cell_type": "code",
   "source": [
    "from rdflib import Graph, Namespace, Literal, BNode\n",
    "from pyvis.network import Network\n",
    "\n",
    "g = Graph()\n",
    "g.parse(\"family_rdf.ttl\", format=\"ttl\")\n",
    "g.serialize(destination=\"rdfdata.ttl\")\n",
    "\n",
    "prefixes = {\n",
    "    \"foaf\": \"http://xmlns.com/foaf/0.1/\",\n",
    "    \"fam\": \"http://example.org/family#\",\n",
    "    \"rdfs\": \"http://www.w3.org/2000/01/rdf-schema#\",\n",
    "    \"rdf\": \"http://www.w3.org/1999/02/22-rdf-syntax-ns#\",\n",
    "    \"ex\": \"http://example.org/\"\n",
    "}\n",
    "\n",
    "FOAF = Namespace(\"http://xmlns.com/foaf/0.1/\")\n",
    "FAM = Namespace(\"http://example.org/family#\")\n",
    "RDFS = Namespace(\"http://www.w3.org/2000/01/rdf-schema#\")\n",
    "\n"
   ],
   "id": "1ef6bd58a34a03f5",
   "outputs": [],
   "execution_count": 2
  },
  {
   "metadata": {},
   "cell_type": "markdown",
   "source": "Iterate over the triples in the RDF graph, add the given relationships to the graph, visulize the initial graph",
   "id": "b96f673b20a85f29"
  },
  {
   "metadata": {
    "ExecuteTime": {
     "end_time": "2024-11-08T15:48:18.261464Z",
     "start_time": "2024-11-08T15:48:18.247393Z"
    }
   },
   "cell_type": "code",
   "source": [
    "def get_prefixed_uri(uri):\n",
    "    for prefix, base_uri in prefixes.items():\n",
    "        if uri.startswith(base_uri):\n",
    "            return uri.replace(base_uri, f\"{prefix}:\")\n",
    "    return uri \n",
    "\n",
    "def get_label(node):\n",
    "    if isinstance(node, BNode):\n",
    "        name = g.value(node, FOAF.name)\n",
    "        if isinstance(name, Literal):  \n",
    "            return str(name)\n",
    "    return get_prefixed_uri(str(node))\n",
    "\n",
    "initial_graph = Network(notebook=True, directed=True)\n",
    "\n",
    "for subj, pred, obj in g:\n",
    "    subj_label = get_label(subj)\n",
    "    obj_label = get_label(obj)\n",
    "    pred_label = get_prefixed_uri(str(pred))\n",
    "    \n",
    "    initial_graph.add_node(subj_label, label=subj_label)\n",
    "    initial_graph.add_node(obj_label, label=obj_label)\n",
    "    initial_graph.add_edge(subj_label, obj_label, label=pred_label, color=\"black\")\n",
    "\n",
    "initial_graph.show(\"initial_graph.html\")\n"
   ],
   "id": "9abfc70e37b7ca85",
   "outputs": [
    {
     "name": "stdout",
     "output_type": "stream",
     "text": [
      "Warning: When  cdn_resources is 'local' jupyter notebook has issues displaying graphics on chrome/safari. Use cdn_resources='in_line' or cdn_resources='remote' if you have issues viewing graphics in a notebook.\n",
      "initial_graph.html\n"
     ]
    },
    {
     "data": {
      "text/plain": [
       "<IPython.lib.display.IFrame at 0x1066450f0>"
      ],
      "text/html": [
       "\n",
       "        <iframe\n",
       "            width=\"100%\"\n",
       "            height=\"600px\"\n",
       "            src=\"initial_graph.html\"\n",
       "            frameborder=\"0\"\n",
       "            allowfullscreen\n",
       "            \n",
       "        ></iframe>\n",
       "        "
      ]
     },
     "execution_count": 3,
     "metadata": {},
     "output_type": "execute_result"
    }
   ],
   "execution_count": 3
  },
  {
   "metadata": {},
   "cell_type": "markdown",
   "source": "Visulize the entailment graph",
   "id": "23440c09e9f38350"
  },
  {
   "metadata": {
    "ExecuteTime": {
     "end_time": "2024-11-08T15:48:18.837356Z",
     "start_time": "2024-11-08T15:48:18.826187Z"
    }
   },
   "cell_type": "code",
   "source": [
    "subproperty_map = {}\n",
    "for subprop, _, superprop in g.triples((None, RDFS.subPropertyOf, None)):\n",
    "    subproperty_map[subprop] = superprop\n",
    "\n",
    "new_triples = set()\n",
    "for subj, pred, obj in g:\n",
    "    if pred in subproperty_map:\n",
    "        superpred = subproperty_map[pred]\n",
    "        new_triples.add((subj, superpred, obj))\n",
    "\n",
    "for subj, superpred, obj in new_triples:\n",
    "    g.add((subj, superpred, obj))\n",
    "\n",
    "entailment_graph = Network(notebook=True, directed=True)\n",
    "\n",
    "for subj, pred, obj in g:\n",
    "    subj_label = get_label(subj)\n",
    "    obj_label = get_label(obj)\n",
    "    pred_label = get_prefixed_uri(str(pred))\n",
    "    \n",
    "    color = \"blue\" if (subj, pred, obj) in new_triples else \"black\"\n",
    "    \n",
    "    entailment_graph.add_node(subj_label, label=subj_label)\n",
    "    entailment_graph.add_node(obj_label, label=obj_label)\n",
    "    entailment_graph.add_edge(subj_label, obj_label, label=pred_label, color=color)\n",
    "\n",
    "entailment_graph.show(\"entailment_graph.html\")"
   ],
   "id": "8cb3d14e02f067f3",
   "outputs": [
    {
     "name": "stdout",
     "output_type": "stream",
     "text": [
      "Warning: When  cdn_resources is 'local' jupyter notebook has issues displaying graphics on chrome/safari. Use cdn_resources='in_line' or cdn_resources='remote' if you have issues viewing graphics in a notebook.\n",
      "entailment_graph.html\n"
     ]
    },
    {
     "data": {
      "text/plain": [
       "<IPython.lib.display.IFrame at 0x10645dc30>"
      ],
      "text/html": [
       "\n",
       "        <iframe\n",
       "            width=\"100%\"\n",
       "            height=\"600px\"\n",
       "            src=\"entailment_graph.html\"\n",
       "            frameborder=\"0\"\n",
       "            allowfullscreen\n",
       "            \n",
       "        ></iframe>\n",
       "        "
      ]
     },
     "execution_count": 4,
     "metadata": {},
     "output_type": "execute_result"
    }
   ],
   "execution_count": 4
  },
  {
   "metadata": {},
   "cell_type": "markdown",
   "source": "",
   "id": "92a0ed5050adcbe4"
  }
 ],
 "metadata": {
  "kernelspec": {
   "display_name": "Python 3",
   "language": "python",
   "name": "python3"
  },
  "language_info": {
   "codemirror_mode": {
    "name": "ipython",
    "version": 2
   },
   "file_extension": ".py",
   "mimetype": "text/x-python",
   "name": "python",
   "nbconvert_exporter": "python",
   "pygments_lexer": "ipython2",
   "version": "2.7.6"
  }
 },
 "nbformat": 4,
 "nbformat_minor": 5
}

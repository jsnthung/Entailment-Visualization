{
 "cells": [
  {
   "cell_type": "code",
   "execution_count": null,
   "id": "ed138596-c31b-4510-acba-e3bc130945f9",
   "metadata": {},
   "outputs": [],
   "source": [
    "!pip install kglab"
   ]
  },
  {
   "cell_type": "markdown",
   "id": "253d1614-3a84-49e0-a4eb-88b661dbcc8b",
   "metadata": {},
   "source": [
    "## Reading input:\n",
    "- from a website\n",
    "- from a file\n",
    "- from string\n",
    "- creating your own"
   ]
  },
  {
   "cell_type": "code",
   "execution_count": null,
   "id": "c9933add-829b-4183-bbf8-ee50280c7334",
   "metadata": {},
   "outputs": [],
   "source": [
    "# from a website"
   ]
  },
  {
   "cell_type": "code",
   "execution_count": 11,
   "id": "00080ff1-e96c-44a2-9555-b1dcf1d03df5",
   "metadata": {},
   "outputs": [
    {
     "name": "stdout",
     "output_type": "stream",
     "text": [
      "Warning: When  cdn_resources is 'local' jupyter notebook has issues displaying graphics on chrome/safari. Use cdn_resources='in_line' or cdn_resources='remote' if you have issues viewing graphics in a notebook.\n",
      "test.html\n"
     ]
    },
    {
     "data": {
      "text/html": [
       "\n",
       "        <iframe\n",
       "            width=\"100%\"\n",
       "            height=\"600px\"\n",
       "            src=\"test.html\"\n",
       "            frameborder=\"0\"\n",
       "            allowfullscreen\n",
       "            \n",
       "        ></iframe>\n",
       "        "
      ],
      "text/plain": [
       "<IPython.lib.display.IFrame at 0x128d71e70>"
      ]
     },
     "execution_count": 11,
     "metadata": {},
     "output_type": "execute_result"
    }
   ],
   "source": [
    "# from a file\n",
    "\n",
    "from rdflib import Graph, Namespace, URIRef, Literal, BNode\n",
    "import kglab\n",
    "from pyvis.network import Network\n",
    "\n",
    "g = Graph()\n",
    "g.parse(\"family_rdf.ttl\", format='ttl')\n",
    "g.serialize(destination=\"rdfdata.ttl\")\n",
    "\n",
    "kg = kglab.KnowledgeGraph().load_rdf(\"rdfdata.ttl\")\n",
    "\n",
    "pyvis_graph = Network(notebook=True, directed=True)\n",
    "\n",
    "# Define the prefixes\n",
    "prefixes = {\n",
    "    \"foaf\": \"http://xmlns.com/foaf/0.1/\",\n",
    "    \"fam\": \"http://example.org/family#\",\n",
    "    \"rdfs\": \"http://www.w3.org/2000/01/rdf-schema#\",\n",
    "    \"rdf\": \"http://www.w3.org/1999/02/22-rdf-syntax-ns#\",\n",
    "    \"ex\": \"http://example.org/\"\n",
    "}\n",
    "\n",
    "# Convert namespaces into predefined prefixes\n",
    "def get_prefixed_uri(uri):\n",
    "    for prefix, base_uri in prefixes.items():\n",
    "        if uri.startswith(base_uri):\n",
    "            return uri.replace(base_uri, f\"{prefix}:\")\n",
    "    return uri \n",
    "\n",
    "# Get name to act as identifier for blank nodes\n",
    "foaf = Namespace(\"http://xmlns.com/foaf/0.1/\")\n",
    "def get_label(node):\n",
    "    # Check if node is a blank node\n",
    "    if isinstance(node, BNode):\n",
    "        name = g.value(node, foaf.name)\n",
    "        # Check if node has foaf:name property\n",
    "        if isinstance(name, Literal):  \n",
    "            return str(name)\n",
    "    # Otherwise, return prefixed URI for non-blank nodes\n",
    "    return get_prefixed_uri(str(node))\n",
    "\n",
    "for subj, pred, obj in g:\n",
    "    # add prefix\n",
    "    subj_label = get_label(subj)\n",
    "    obj_label = get_label(obj)\n",
    "    pred_label = get_prefixed_uri(str(pred))\n",
    "    \n",
    "    # add nodes\n",
    "    pyvis_graph.add_node(subj, label=subj_label)\n",
    "    pyvis_graph.add_node(obj, label=obj_label)\n",
    "\n",
    "    # add edge\n",
    "    pyvis_graph.add_edge(subj, obj, label=pred_label, title=pred_label)\n",
    "\n",
    "pyvis_graph.force_atlas_2based()\n",
    "pyvis_graph.show(\"test.html\")"
   ]
  },
  {
   "cell_type": "code",
   "execution_count": 10,
   "id": "e7dd508b-a98a-40fc-a91a-a14dec03f192",
   "metadata": {
    "collapsed": true,
    "jupyter": {
     "outputs_hidden": true,
     "source_hidden": true
    }
   },
   "outputs": [
    {
     "name": "stdout",
     "output_type": "stream",
     "text": [
      "Warning: When  cdn_resources is 'local' jupyter notebook has issues displaying graphics on chrome/safari. Use cdn_resources='in_line' or cdn_resources='remote' if you have issues viewing graphics in a notebook.\n",
      "test.html\n"
     ]
    },
    {
     "data": {
      "text/html": [
       "\n",
       "        <iframe\n",
       "            width=\"100%\"\n",
       "            height=\"600px\"\n",
       "            src=\"test.html\"\n",
       "            frameborder=\"0\"\n",
       "            allowfullscreen\n",
       "            \n",
       "        ></iframe>\n",
       "        "
      ],
      "text/plain": [
       "<IPython.lib.display.IFrame at 0x12882c400>"
      ]
     },
     "execution_count": 10,
     "metadata": {},
     "output_type": "execute_result"
    }
   ],
   "source": [
    "# from string\n",
    "\n",
    "from rdflib import Graph\n",
    "import kglab\n",
    "from pyvis.network import Network\n",
    "\n",
    "\n",
    "turtledata = \"\"\"\\\n",
    "PREFIX dbr: <http://dbpedia.org/resource/>\n",
    "PREFIX dbo: <http://dbpedia.org/ontology/>\n",
    "PREFIX rdf: <http://www.w3.org/1999/02/22-rdf-syntax-ns#>\n",
    "PREFIX rdfs: <http://www.w3.org/2000/01/rdf-schema#>\n",
    "PREFIX ex: <http://example.org/>\n",
    "PREFIX xsd: <http://www.w3.org/2001/XMLSchema#>\n",
    "\n",
    "dbr:John_Travolta \t\trdf:type   \t\t\t\tdbo:Actor ;\n",
    "      \t\t\t  \t\t\t\tdbo:awards \t\t\t\tdbr:67th_Academy_Awards ;\n",
    "      \t\t\t  \t\t\t\tex:portrays\t\t\t\tdbr:Vincent_Vega .\n",
    "dbr:Pulp_Fiction  \t\trdf:type  \t\t\t\tdbo:Film ;\n",
    "\t\t\t\t\t\t\t\t\t\t\trdfs:label\t\t\t\t\"Pulp_Fiction\"@en ,\n",
    "\t\t\t\t\t\t\t\t\t\t\t\"Кримінальне чтиво\"@ua ;\n",
    "      \t\t\t  \t\t\t\tdbo:genre     \t\t\tdbr:Neo_noir ;\n",
    "      \t\t\t  \t\t\t\tex:playsIn \t\t\t\tdbr:Los_Angeles ;\n",
    "      \t\t\t  \t\t\t\tex:fictionalCharacter \tdbr:Vincent_Vega ;\n",
    "      \t\t\t  \t\t\t\tdbo:starring  \t\t\tdbr:John_Travolta ,\n",
    "      \t\t\t  \t\t\t\tdbr:Uma_Thurman ,\n",
    "      \t\t\t  \t\t\t\tdbr:Bruce_Willis .\n",
    "dbr:Vincent_Vega \t  \trdf:type \t\t\t\tdbo:Fictional_character .\n",
    "dbr:Quentin_Tarantino rdf:type \t\t\t\tdbo:Director .\n",
    "dbr:Uma_Thurman\t\t\t\trdf:type \t\t\t\tdbo:Actor ;\n",
    "\t\t\t\t\t\t\t\t\t\t\tex:portrays\t\t\t\tdbr:Mia_Wallace ;\n",
    "\t\t\t\t\t\t\t\t\t\t\tdbo:awards  \t\t\tdbr:67th_Academy_Awards .\n",
    "dbr:Bruce_Willis\t\t\trdf:type   \t\t\t\tdbo:Actor .\n",
    "dbr:The_Green_Mile\t\trdf:type  \t\t\t\tdbo:Film ;\n",
    "\t\t\t\t\t\t\t\t\t\t\trdfs:label\t\t\t\t\"The Green Mile\"@en ,\n",
    "\t\t\t\t\t\t\t\t\t\t\t\"Зелена миля\"@ua ;\n",
    "\t\t\t\t\t\t\t\t\t\t\tdbo:starring\t\t\tdbr:Tom_Hanks,\n",
    "\t\t\t\t\t\t\t\t\t\t\tdbr:David_Morse .\n",
    "dbr:Tom_Hanks\t\t\t\t\trdf:type \t\t\t\tdbo:Actor .\n",
    "dbr:David_Morse\t\t\t\trdf:type \t\t\t\tdbo:Actor .\n",
    "dbr:Tenet\t\t\t\t\t\t\trdf:type  \t\t\t\tdbo:Film ;\n",
    "\t\t\t\t\t\t\t\t\t\t\trdfs:label\t\t\t\t\"Tenet\"@en ;\n",
    "\t\t\t\t\t\t\t\t\t\t\tdbo:starring \t\t\tdbr:Robert_Pattinson ,\n",
    "\t\t\t\t\t\t\t\t\t\t\tdbr:Elizabeth_Debicki ,\n",
    "\t\t\t\t\t\t\t\t\t\t\tdbr:John_David_Washington .\n",
    "dbr:Robert_Pattinson \trdf:type \t\t\t\tdbo:Actor .\n",
    "dbr:Elizabeth_Debicki rdf:type \t\t\t\tdbo:Actor .\n",
    "dbr:John_David_Washington rdf:type \t\t\t\tdbo:Actor .\"\"\"\n",
    "\n",
    "g = Graph()\n",
    "g.parse(data=turtledata, format='ttl')\n",
    "g.serialize(destination=\"rdfdata.ttl\")\n",
    "\n",
    "kg = kglab.KnowledgeGraph().load_rdf(\"rdfdata.ttl\")\n",
    "\n",
    "pyvis_graph = Network(notebook=True, directed=True)\n",
    "\n",
    "# Define the prefixes\n",
    "prefixes = {\n",
    "    \"dbr\": \"http://dbpedia.org/resource/\",\n",
    "    \"dbo\": \"http://dbpedia.org/ontology/\",\n",
    "    \"rdf\": \"http://www.w3.org/1999/02/22-rdf-syntax-ns#\",\n",
    "    \"rdfs\": \"http://www.w3.org/2000/01/rdf-schema#\",\n",
    "    \"ex\": \"http://example.org/\",\n",
    "    \"xsd\": \"http://www.w3.org/2001/XMLSchema#\"\n",
    "}\n",
    "\n",
    "def get_prefixed_uri(uri):\n",
    "    for prefix, base_uri in prefixes.items():\n",
    "        if uri.startswith(base_uri):\n",
    "            return uri.replace(base_uri, f\"{prefix}:\")\n",
    "    return uri \n",
    "\n",
    "for subj, pred, obj in g:\n",
    "    # add prefix\n",
    "    subj_prefixed = get_prefixed_uri(str(subj))\n",
    "    obj_prefixed = get_prefixed_uri(str(obj))\n",
    "    pred_prefixed = get_prefixed_uri(str(pred))\n",
    "    \n",
    "    # add nodes\n",
    "    pyvis_graph.add_node(subj_prefixed, label=subj_prefixed)\n",
    "    pyvis_graph.add_node(obj_prefixed, label=obj_prefixed)\n",
    "\n",
    "    # add edge\n",
    "    pyvis_graph.add_edge(subj_prefixed, obj_prefixed, label=pred_prefixed, title=pred_prefixed)\n",
    "\n",
    "pyvis_graph.force_atlas_2based()\n",
    "\n",
    "pyvis_graph.show(\"test.html\")"
   ]
  },
  {
   "cell_type": "code",
   "execution_count": null,
   "id": "96a2e00d-8644-43f6-9607-620c5e96f51d",
   "metadata": {},
   "outputs": [],
   "source": [
    "# creating your own"
   ]
  },
  {
   "cell_type": "markdown",
   "id": "ead8fc11-6b07-44b3-8326-d657a7fe6304",
   "metadata": {},
   "source": [
    "## Working on the graph"
   ]
  },
  {
   "cell_type": "code",
   "execution_count": null,
   "id": "e24b361c-e5f8-4b42-b20b-a6ea2fd84244",
   "metadata": {},
   "outputs": [],
   "source": [
    "for index, (subj, pred, obj) in enumerate(g):\n",
    "    print(subj, pred, obj)\n",
    "    if index == 10:\n",
    "        break"
   ]
  },
  {
   "cell_type": "markdown",
   "id": "379e4e9b-c0d6-4514-9cae-aa07c6a5a3da",
   "metadata": {},
   "source": [
    "## Methods of entailment:\n",
    "1. Immediate Conversion into DiGraph each step\n",
    "    - For each step taken in the entailment process, the current state is structured into a DiGraph and then visualized\n",
    "2. Maintaining a log of entailment steps\n",
    "    - Storing each state of entailment and then going through each steps while visualizing\n",
    "3. Maintaining a cummulative of entailment steps\n",
    "    -  Just like method 2, but steps are segmented for each entailment rule being applied"
   ]
  },
  {
   "cell_type": "markdown",
   "id": "609d3cfd-4b05-40b3-94c9-a730bf2e44c7",
   "metadata": {},
   "source": [
    "#### Immediate conversion each step"
   ]
  },
  {
   "cell_type": "code",
   "execution_count": null,
   "id": "4c518fac-223b-48ca-a23b-98f8cf227140",
   "metadata": {},
   "outputs": [],
   "source": []
  },
  {
   "cell_type": "markdown",
   "id": "fd203222-165d-44ba-98f0-b33a57c38d5a",
   "metadata": {},
   "source": [
    "#### Maintaining log of entailment steps"
   ]
  },
  {
   "cell_type": "code",
   "execution_count": null,
   "id": "b490ca5a-feac-4ef0-ac31-5d1ffc298768",
   "metadata": {},
   "outputs": [],
   "source": []
  },
  {
   "cell_type": "markdown",
   "id": "b5d29990-5f2c-4f37-9fe2-612b2021b9ed",
   "metadata": {},
   "source": [
    "#### Cummulative entailment steps"
   ]
  },
  {
   "cell_type": "code",
   "execution_count": null,
   "id": "b372d48b-c2b1-4ade-9e5a-6e889e682d4a",
   "metadata": {},
   "outputs": [],
   "source": []
  },
  {
   "cell_type": "markdown",
   "id": "85c50f85-a603-4cc5-896b-573ab518229a",
   "metadata": {},
   "source": [
    "## Different types of network physics\n",
    "- barnes_hut\n",
    "- force_atlas_2based\n",
    "- hrepulsion\n",
    "- repulsion"
   ]
  },
  {
   "cell_type": "code",
   "execution_count": null,
   "id": "e4b30b9b-cb7b-4612-82d2-458e766ac9bc",
   "metadata": {},
   "outputs": [],
   "source": [
    "pyvis_graph.barnes_hut()\n",
    "pyvis_graph.show(\"test.html\")"
   ]
  },
  {
   "cell_type": "code",
   "execution_count": 9,
   "id": "eea0c6a7-537c-47e1-a7d0-7536b340adbf",
   "metadata": {
    "collapsed": true,
    "jupyter": {
     "outputs_hidden": true
    }
   },
   "outputs": [
    {
     "name": "stdout",
     "output_type": "stream",
     "text": [
      "test.html\n"
     ]
    },
    {
     "data": {
      "text/html": [
       "\n",
       "        <iframe\n",
       "            width=\"100%\"\n",
       "            height=\"600px\"\n",
       "            src=\"test.html\"\n",
       "            frameborder=\"0\"\n",
       "            allowfullscreen\n",
       "            \n",
       "        ></iframe>\n",
       "        "
      ],
      "text/plain": [
       "<IPython.lib.display.IFrame at 0x1288ad420>"
      ]
     },
     "execution_count": 9,
     "metadata": {},
     "output_type": "execute_result"
    }
   ],
   "source": [
    "pyvis_graph.force_atlas_2based()\n",
    "pyvis_graph.show(\"test.html\")"
   ]
  },
  {
   "cell_type": "code",
   "execution_count": null,
   "id": "d1d9ac99-bc8e-4c7a-ba1c-1eae1fa8286a",
   "metadata": {},
   "outputs": [],
   "source": [
    "pyvis_graph.hrepulsion()\n",
    "pyvis_graph.show(\"test.html\")"
   ]
  },
  {
   "cell_type": "code",
   "execution_count": null,
   "id": "0b0dfed6-e034-4d59-8c42-bc22e0adf990",
   "metadata": {},
   "outputs": [],
   "source": [
    "pyvis_graph.repulsion()\n",
    "pyvis_graph.show(\"test.html\")"
   ]
  },
  {
   "cell_type": "code",
   "execution_count": 12,
   "id": "343c29cc-cfc4-4e7e-951c-943783761477",
   "metadata": {},
   "outputs": [
    {
     "name": "stdout",
     "output_type": "stream",
     "text": [
      "Warning: When  cdn_resources is 'local' jupyter notebook has issues displaying graphics on chrome/safari. Use cdn_resources='in_line' or cdn_resources='remote' if you have issues viewing graphics in a notebook.\n",
      "test.html\n"
     ]
    },
    {
     "data": {
      "text/html": [
       "\n",
       "        <iframe\n",
       "            width=\"100%\"\n",
       "            height=\"600px\"\n",
       "            src=\"test.html\"\n",
       "            frameborder=\"0\"\n",
       "            allowfullscreen\n",
       "            \n",
       "        ></iframe>\n",
       "        "
      ],
      "text/plain": [
       "<IPython.lib.display.IFrame at 0x128c63a30>"
      ]
     },
     "execution_count": 12,
     "metadata": {},
     "output_type": "execute_result"
    }
   ],
   "source": [
    "from rdflib import Graph, Namespace, URIRef, Literal, BNode\n",
    "import kglab\n",
    "from pyvis.network import Network\n",
    "\n",
    "g = Graph()\n",
    "g.parse(\"family_rdf.ttl\", format='ttl')\n",
    "g.serialize(destination=\"rdfdata.ttl\")\n",
    "\n",
    "kg = kglab.KnowledgeGraph().load_rdf(\"rdfdata.ttl\")\n",
    "\n",
    "pyvis_graph = Network(notebook=True, directed=True)\n",
    "\n",
    "# Define the prefixes\n",
    "prefixes = {\n",
    "    \"foaf\": \"http://xmlns.com/foaf/0.1/\",\n",
    "    \"fam\": \"http://example.org/family#\",\n",
    "    \"rdfs\": \"http://www.w3.org/2000/01/rdf-schema#\",\n",
    "    \"rdf\": \"http://www.w3.org/1999/02/22-rdf-syntax-ns#\",\n",
    "    \"ex\": \"http://example.org/\"\n",
    "}\n",
    "\n",
    "# Convert namespaces into predefined prefixes\n",
    "def get_prefixed_uri(uri):\n",
    "    for prefix, base_uri in prefixes.items():\n",
    "        if uri.startswith(base_uri):\n",
    "            return uri.replace(base_uri, f\"{prefix}:\")\n",
    "    return uri \n",
    "\n",
    "# Get name to act as identifier for blank nodes\n",
    "foaf = Namespace(\"http://xmlns.com/foaf/0.1/\")\n",
    "def get_label(node):\n",
    "    # Check if node is a blank node\n",
    "    if isinstance(node, BNode):\n",
    "        name = g.value(node, foaf.name)\n",
    "        # Check if node has foaf:name property\n",
    "        if isinstance(name, Literal):  \n",
    "            return str(name)\n",
    "    # Otherwise, return prefixed URI for non-blank nodes\n",
    "    return get_prefixed_uri(str(node))\n",
    "\n",
    "# Apply rdfs:subPropertyOf entailment\n",
    "rdfs = Namespace(\"http://www.w3.org/2000/01/rdf-schema#\")\n",
    "subproperty_map = {}\n",
    "\n",
    "# Build a map of subproperties to their parent properties\n",
    "for subprop, _, superprop in g.triples((None, rdfs.subPropertyOf, None)):\n",
    "    subproperty_map[subprop] = superprop\n",
    "\n",
    "# Generate entailments based on subPropertyOf relationships\n",
    "new_triples = set()\n",
    "for subj, pred, obj in g:\n",
    "    # Check if the predicate has a superproperty\n",
    "    if pred in subproperty_map:\n",
    "        # Add a new triple for the inferred relationship\n",
    "        superpred = subproperty_map[pred]\n",
    "        new_triples.add((subj, superpred, obj))\n",
    "\n",
    "# Add the new inferred triples to the graph\n",
    "for subj, superpred, obj in new_triples:\n",
    "    g.add((subj, superpred, obj))\n",
    "\n",
    "# Visualize the graph with original and inferred triples\n",
    "for subj, pred, obj in g:\n",
    "    # add prefix\n",
    "    subj_label = get_label(subj)\n",
    "    obj_label = get_label(obj)\n",
    "    pred_label = get_prefixed_uri(str(pred))\n",
    "    \n",
    "    # add nodes\n",
    "    pyvis_graph.add_node(subj, label=subj_label)\n",
    "    pyvis_graph.add_node(obj, label=obj_label)\n",
    "\n",
    "    # add edge\n",
    "    pyvis_graph.add_edge(subj, obj, label=pred_label, title=pred_label)\n",
    "\n",
    "pyvis_graph.force_atlas_2based()\n",
    "pyvis_graph.show(\"test.html\")\n"
   ]
  }
 ],
 "metadata": {
  "kernelspec": {
   "display_name": "Python 3 (ipykernel)",
   "language": "python",
   "name": "python3"
  },
  "language_info": {
   "codemirror_mode": {
    "name": "ipython",
    "version": 3
   },
   "file_extension": ".py",
   "mimetype": "text/x-python",
   "name": "python",
   "nbconvert_exporter": "python",
   "pygments_lexer": "ipython3",
   "version": "3.10.12"
  }
 },
 "nbformat": 4,
 "nbformat_minor": 5
}
